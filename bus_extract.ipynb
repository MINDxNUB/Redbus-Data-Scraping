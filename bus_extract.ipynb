{
 "cells": [
  {
   "cell_type": "code",
   "execution_count": 2,
   "metadata": {},
   "outputs": [
    {
     "name": "stdout",
     "output_type": "stream",
     "text": [
      "Gov element not found: Message: no such window: target window already closed\n",
      "from unknown error: web view not found\n",
      "  (Session info: MicrosoftEdge=131.0.2903.63)\n",
      "Stacktrace:\n",
      "\t(No symbol) [0x00007FF6E90A6B15]\n",
      "\tMicrosoft::Applications::Events::EventProperty::empty [0x00007FF6E93CF4B4+1437348]\n",
      "\tsqlite3_dbdata_init [0x00007FF6E9472DE6+643174]\n",
      "\t(No symbol) [0x00007FF6E8F67657]\n",
      "\t(No symbol) [0x00007FF6E8FF1CE5]\n",
      "\t(No symbol) [0x00007FF6E900670A]\n",
      "\t(No symbol) [0x00007FF6E8FEBE03]\n",
      "\t(No symbol) [0x00007FF6E8FC2984]\n",
      "\t(No symbol) [0x00007FF6E8FC1E30]\n",
      "\t(No symbol) [0x00007FF6E8FC2571]\n",
      "\tMicrosoft::Applications::Events::EventProperty::empty [0x00007FF6E937BB44+1094964]\n",
      "\t(No symbol) [0x00007FF6E90E32C8]\n",
      "\tMicrosoft::Applications::Events::EventProperty::empty [0x00007FF6E937AF83+1091955]\n",
      "\tMicrosoft::Applications::Events::EventProperty::empty [0x00007FF6E937AAE9+1090777]\n",
      "\tMicrosoft::Applications::Events::ILogConfiguration::operator* [0x00007FF6E9180CF1+461585]\n",
      "\tMicrosoft::Applications::Events::ILogConfiguration::operator* [0x00007FF6E917CA14+444468]\n",
      "\tMicrosoft::Applications::Events::ILogConfiguration::operator* [0x00007FF6E917CB59+444793]\n",
      "\tMicrosoft::Applications::Events::ILogConfiguration::operator* [0x00007FF6E91721D6+401398]\n",
      "\tBaseThreadInitThunk [0x00007FFCDD9F259D+29]\n",
      "\tRtlUserThreadStart [0x00007FFCDECEAF38+40]\n",
      "\n"
     ]
    },
    {
     "ename": "NoSuchWindowException",
     "evalue": "Message: no such window: target window already closed\nfrom unknown error: web view not found\n  (Session info: MicrosoftEdge=131.0.2903.63)\nStacktrace:\n\t(No symbol) [0x00007FF6E90A6B15]\n\tMicrosoft::Applications::Events::EventProperty::empty [0x00007FF6E93CF4B4+1437348]\n\tsqlite3_dbdata_init [0x00007FF6E9472DE6+643174]\n\t(No symbol) [0x00007FF6E8F67657]\n\t(No symbol) [0x00007FF6E8FF1CE5]\n\t(No symbol) [0x00007FF6E900670A]\n\t(No symbol) [0x00007FF6E8FEBE03]\n\t(No symbol) [0x00007FF6E8FC2984]\n\t(No symbol) [0x00007FF6E8FC1E30]\n\t(No symbol) [0x00007FF6E8FC2571]\n\tMicrosoft::Applications::Events::EventProperty::empty [0x00007FF6E937BB44+1094964]\n\t(No symbol) [0x00007FF6E90E32C8]\n\tMicrosoft::Applications::Events::EventProperty::empty [0x00007FF6E937AF83+1091955]\n\tMicrosoft::Applications::Events::EventProperty::empty [0x00007FF6E937AAE9+1090777]\n\tMicrosoft::Applications::Events::ILogConfiguration::operator* [0x00007FF6E9180CF1+461585]\n\tMicrosoft::Applications::Events::ILogConfiguration::operator* [0x00007FF6E917CA14+444468]\n\tMicrosoft::Applications::Events::ILogConfiguration::operator* [0x00007FF6E917CB59+444793]\n\tMicrosoft::Applications::Events::ILogConfiguration::operator* [0x00007FF6E91721D6+401398]\n\tBaseThreadInitThunk [0x00007FFCDD9F259D+29]\n\tRtlUserThreadStart [0x00007FFCDECEAF38+40]\n",
     "output_type": "error",
     "traceback": [
      "\u001b[1;31m---------------------------------------------------------------------------\u001b[0m",
      "\u001b[1;31mNoSuchWindowException\u001b[0m                     Traceback (most recent call last)",
      "Cell \u001b[1;32mIn[2], line 53\u001b[0m\n\u001b[0;32m     50\u001b[0m time\u001b[38;5;241m.\u001b[39msleep(\u001b[38;5;241m2\u001b[39m)\n\u001b[0;32m     52\u001b[0m scrolling\u001b[38;5;241m=\u001b[39m\u001b[38;5;28;01mTrue\u001b[39;00m\n\u001b[1;32m---> 53\u001b[0m pagesource1\u001b[38;5;241m=\u001b[39mdriver\u001b[38;5;241m.\u001b[39mpage_source\n\u001b[0;32m     54\u001b[0m scroll_count\u001b[38;5;241m=\u001b[39m\u001b[38;5;241m0\u001b[39m\n\u001b[0;32m     55\u001b[0m \u001b[38;5;28;01mwhile\u001b[39;00m scrolling:\n",
      "File \u001b[1;32mc:\\Users\\Muhammed Salman\\anaconda3\\Lib\\site-packages\\selenium\\webdriver\\remote\\webdriver.py:481\u001b[0m, in \u001b[0;36mWebDriver.page_source\u001b[1;34m(self)\u001b[0m\n\u001b[0;32m    472\u001b[0m \u001b[38;5;129m@property\u001b[39m\n\u001b[0;32m    473\u001b[0m \u001b[38;5;28;01mdef\u001b[39;00m \u001b[38;5;21mpage_source\u001b[39m(\u001b[38;5;28mself\u001b[39m) \u001b[38;5;241m-\u001b[39m\u001b[38;5;241m>\u001b[39m \u001b[38;5;28mstr\u001b[39m:\n\u001b[0;32m    474\u001b[0m \u001b[38;5;250m    \u001b[39m\u001b[38;5;124;03m\"\"\"Gets the source of the current page.\u001b[39;00m\n\u001b[0;32m    475\u001b[0m \n\u001b[0;32m    476\u001b[0m \u001b[38;5;124;03m    :Usage:\u001b[39;00m\n\u001b[1;32m   (...)\u001b[0m\n\u001b[0;32m    479\u001b[0m \u001b[38;5;124;03m            driver.page_source\u001b[39;00m\n\u001b[0;32m    480\u001b[0m \u001b[38;5;124;03m    \"\"\"\u001b[39;00m\n\u001b[1;32m--> 481\u001b[0m     \u001b[38;5;28;01mreturn\u001b[39;00m \u001b[38;5;28mself\u001b[39m\u001b[38;5;241m.\u001b[39mexecute(Command\u001b[38;5;241m.\u001b[39mGET_PAGE_SOURCE)[\u001b[38;5;124m\"\u001b[39m\u001b[38;5;124mvalue\u001b[39m\u001b[38;5;124m\"\u001b[39m]\n",
      "File \u001b[1;32mc:\\Users\\Muhammed Salman\\anaconda3\\Lib\\site-packages\\selenium\\webdriver\\remote\\webdriver.py:380\u001b[0m, in \u001b[0;36mWebDriver.execute\u001b[1;34m(self, driver_command, params)\u001b[0m\n\u001b[0;32m    378\u001b[0m response \u001b[38;5;241m=\u001b[39m \u001b[38;5;28mself\u001b[39m\u001b[38;5;241m.\u001b[39mcommand_executor\u001b[38;5;241m.\u001b[39mexecute(driver_command, params)\n\u001b[0;32m    379\u001b[0m \u001b[38;5;28;01mif\u001b[39;00m response:\n\u001b[1;32m--> 380\u001b[0m     \u001b[38;5;28mself\u001b[39m\u001b[38;5;241m.\u001b[39merror_handler\u001b[38;5;241m.\u001b[39mcheck_response(response)\n\u001b[0;32m    381\u001b[0m     response[\u001b[38;5;124m\"\u001b[39m\u001b[38;5;124mvalue\u001b[39m\u001b[38;5;124m\"\u001b[39m] \u001b[38;5;241m=\u001b[39m \u001b[38;5;28mself\u001b[39m\u001b[38;5;241m.\u001b[39m_unwrap_value(response\u001b[38;5;241m.\u001b[39mget(\u001b[38;5;124m\"\u001b[39m\u001b[38;5;124mvalue\u001b[39m\u001b[38;5;124m\"\u001b[39m, \u001b[38;5;28;01mNone\u001b[39;00m))\n\u001b[0;32m    382\u001b[0m     \u001b[38;5;28;01mreturn\u001b[39;00m response\n",
      "File \u001b[1;32mc:\\Users\\Muhammed Salman\\anaconda3\\Lib\\site-packages\\selenium\\webdriver\\remote\\errorhandler.py:229\u001b[0m, in \u001b[0;36mErrorHandler.check_response\u001b[1;34m(self, response)\u001b[0m\n\u001b[0;32m    227\u001b[0m         alert_text \u001b[38;5;241m=\u001b[39m value[\u001b[38;5;124m\"\u001b[39m\u001b[38;5;124malert\u001b[39m\u001b[38;5;124m\"\u001b[39m]\u001b[38;5;241m.\u001b[39mget(\u001b[38;5;124m\"\u001b[39m\u001b[38;5;124mtext\u001b[39m\u001b[38;5;124m\"\u001b[39m)\n\u001b[0;32m    228\u001b[0m     \u001b[38;5;28;01mraise\u001b[39;00m exception_class(message, screen, stacktrace, alert_text)  \u001b[38;5;66;03m# type: ignore[call-arg]  # mypy is not smart enough here\u001b[39;00m\n\u001b[1;32m--> 229\u001b[0m \u001b[38;5;28;01mraise\u001b[39;00m exception_class(message, screen, stacktrace)\n",
      "\u001b[1;31mNoSuchWindowException\u001b[0m: Message: no such window: target window already closed\nfrom unknown error: web view not found\n  (Session info: MicrosoftEdge=131.0.2903.63)\nStacktrace:\n\t(No symbol) [0x00007FF6E90A6B15]\n\tMicrosoft::Applications::Events::EventProperty::empty [0x00007FF6E93CF4B4+1437348]\n\tsqlite3_dbdata_init [0x00007FF6E9472DE6+643174]\n\t(No symbol) [0x00007FF6E8F67657]\n\t(No symbol) [0x00007FF6E8FF1CE5]\n\t(No symbol) [0x00007FF6E900670A]\n\t(No symbol) [0x00007FF6E8FEBE03]\n\t(No symbol) [0x00007FF6E8FC2984]\n\t(No symbol) [0x00007FF6E8FC1E30]\n\t(No symbol) [0x00007FF6E8FC2571]\n\tMicrosoft::Applications::Events::EventProperty::empty [0x00007FF6E937BB44+1094964]\n\t(No symbol) [0x00007FF6E90E32C8]\n\tMicrosoft::Applications::Events::EventProperty::empty [0x00007FF6E937AF83+1091955]\n\tMicrosoft::Applications::Events::EventProperty::empty [0x00007FF6E937AAE9+1090777]\n\tMicrosoft::Applications::Events::ILogConfiguration::operator* [0x00007FF6E9180CF1+461585]\n\tMicrosoft::Applications::Events::ILogConfiguration::operator* [0x00007FF6E917CA14+444468]\n\tMicrosoft::Applications::Events::ILogConfiguration::operator* [0x00007FF6E917CB59+444793]\n\tMicrosoft::Applications::Events::ILogConfiguration::operator* [0x00007FF6E91721D6+401398]\n\tBaseThreadInitThunk [0x00007FFCDD9F259D+29]\n\tRtlUserThreadStart [0x00007FFCDECEAF38+40]\n"
     ]
    }
   ],
   "source": [
    "from selenium import webdriver\n",
    "from selenium.webdriver.common.by import By\n",
    "from selenium.webdriver.common.keys import Keys\n",
    "from selenium.webdriver.support import expected_conditions as EC\n",
    "from selenium.webdriver import ActionChains\n",
    "from selenium.webdriver.support.ui import WebDriverWait\n",
    "from selenium.common.exceptions import TimeoutException, NoSuchElementException\n",
    "import time\n",
    "import pandas as pd\n",
    "\n",
    "\n",
    "driver = webdriver.Edge()\n",
    "wait=WebDriverWait(driver,20)\n",
    "driver.maximize_window()\n",
    "df=pd.read_csv(\"D:/CSV files redbus/bihar.csv\")\n",
    "\n",
    "\n",
    "Route_names = []\n",
    "Route_link = []\n",
    "Bus_name = []\n",
    "Bus_types = []\n",
    "Start_Time = []\n",
    "Duration = []\n",
    "End_Time = []\n",
    "Ratings = []\n",
    "Prices = []\n",
    "Seats_Available = []\n",
    "\n",
    "\n",
    "for i,r in df.iterrows():\n",
    "    route1=r['Route']\n",
    "    link1=r['Link']\n",
    "\n",
    "    driver.get(link1)\n",
    "\n",
    "    time.sleep(3)    \n",
    "    \n",
    "\n",
    "    try:\n",
    "        gov = wait.until(EC.presence_of_element_located((By.XPATH,'//div[@class=\"gmeta-data clearfix\"]')))\n",
    "        view = driver.find_element(By.XPATH, '//div[@class=\"button\"]')\n",
    "        actions = ActionChains(driver)\n",
    "        actions.move_to_element(view).perform()\n",
    "        wait.until(EC.element_to_be_clickable(view))\n",
    "        view.click()\n",
    "    except Exception as e:\n",
    "        print(f\"Gov element not found: {e}\")\n",
    "\n",
    "        \n",
    "    time.sleep(2)\n",
    "\n",
    "    scrolling=True\n",
    "    pagesource1=driver.page_source\n",
    "    scroll_count=0\n",
    "    while scrolling:\n",
    "        \n",
    "        body=driver.find_element(By.TAG_NAME,\"body\")\n",
    "        body.send_keys(Keys.PAGE_DOWN)\n",
    "        time.sleep(3)\n",
    "        pagesource2=driver.page_source\n",
    "\n",
    "        if pagesource1==pagesource2:\n",
    "            scroll_count+=1\n",
    "            if scroll_count>3:\n",
    "                scrolling=False\n",
    "        else:\n",
    "            pagesource1=pagesource2\n",
    "            scroll_count=0\n",
    "\n",
    "\n",
    "    B_name = driver.find_elements(By.XPATH,'//div[@class=\"travels lh-24 f-bold d-color\"]')\n",
    "    B_types = driver.find_elements(By.XPATH,'//div[@class=\"bus-type f-12 m-top-16 l-color evBus\"]')\n",
    "    Srt_Time = driver.find_elements(By.XPATH,'//div[@class=\"dp-time f-19 d-color f-bold\"]')\n",
    "    Drtn = driver.find_elements(By.XPATH,'//div[@class=\"dur l-color lh-24\"]')\n",
    "    Nd_Time = driver.find_elements(By.XPATH,'//div[@class=\"bp-time f-19 d-color disp-Inline\"]')\n",
    "    Ratngs = driver.find_elements(By.XPATH,'//div[@class=\"column-six p-right-10 w-10 fl\"]')\n",
    "    Cost = driver.find_elements(By.XPATH,'//div[@class=\"fare d-block\"]')\n",
    "    Seats_Avlble = driver.find_elements(By.XPATH,'//div[@class=\"column-eight w-15 fl\"]')\n",
    "\n",
    "\n",
    "\n",
    "    \n",
    "    for bus in B_name:\n",
    "        Bus_name.append(bus.text)\n",
    "        Route_names.append(route1)\n",
    "        Route_link.append(link1)\n",
    "    for type in B_types:\n",
    "        Bus_types.append(type.text)\n",
    "    for t1 in Srt_Time:\n",
    "        Start_Time.append(t1.text)\n",
    "    for ttime in Drtn:\n",
    "        Duration.append(ttime.text)\n",
    "    for t2 in Nd_Time:\n",
    "        End_Time.append(t2.text)\n",
    "    for star in Ratngs:\n",
    "        Ratings.append(star.text)\n",
    "    for val in Cost:\n",
    "        Prices.append(val.text)\n",
    "    for seats in Seats_Avlble:\n",
    "        Seats_Available.append(seats.text)\n",
    "\n",
    "    print(\"data entered successfully\")\n",
    "\n",
    "\n"
   ]
  },
  {
   "cell_type": "code",
   "execution_count": 14,
   "metadata": {},
   "outputs": [
    {
     "name": "stdout",
     "output_type": "stream",
     "text": [
      "entry completed\n"
     ]
    }
   ],
   "source": [
    "businfo={\n",
    "    'Route_name': Route_names,\n",
    "    'Route_link': Route_link,\n",
    "    'Bus_name': Bus_name,\n",
    "    'Bus_type': Bus_types,\n",
    "    'Start_time': Start_Time,\n",
    "    'Total_duration': Duration,\n",
    "    'End_time': End_Time,\n",
    "    \"Ratings\": Ratings,\n",
    "    'Price': Prices,\n",
    "    \"Seats_Available\": Seats_Available\n",
    "}\n",
    "print(\"entry completed\")"
   ]
  },
  {
   "cell_type": "code",
   "execution_count": 13,
   "metadata": {},
   "outputs": [
    {
     "data": {
      "text/plain": [
       "[301, 301, 301, 301, 301, 301, 301, 301, 301, 301]"
      ]
     },
     "execution_count": 13,
     "metadata": {},
     "output_type": "execute_result"
    }
   ],
   "source": [
    "l=[len(arr) for arr in [Route_names,Route_link,Bus_name,Bus_types,Start_Time,Duration,End_Time,Ratings,Prices,Seats_Available]]\n",
    "l\n"
   ]
  },
  {
   "cell_type": "code",
   "execution_count": 15,
   "metadata": {},
   "outputs": [],
   "source": [
    "bsrtc=pd.DataFrame(businfo)\n",
    "path=('D:/CSV files redbus/bsrtc.csv')\n",
    "bsrtc.to_csv(path,index=False)"
   ]
  }
 ],
 "metadata": {
  "kernelspec": {
   "display_name": "streamlitenv",
   "language": "python",
   "name": "python3"
  },
  "language_info": {
   "codemirror_mode": {
    "name": "ipython",
    "version": 3
   },
   "file_extension": ".py",
   "mimetype": "text/x-python",
   "name": "python",
   "nbconvert_exporter": "python",
   "pygments_lexer": "ipython3",
   "version": "3.12.7"
  }
 },
 "nbformat": 4,
 "nbformat_minor": 2
}
